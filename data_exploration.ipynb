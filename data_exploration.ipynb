{
 "nbformat": 4,
 "nbformat_minor": 2,
 "metadata": {
  "language_info": {
   "name": "python",
   "codemirror_mode": {
    "name": "ipython",
    "version": 3
   },
   "version": "3.7.4-final"
  },
  "orig_nbformat": 2,
  "file_extension": ".py",
  "mimetype": "text/x-python",
  "name": "python",
  "npconvert_exporter": "python",
  "pygments_lexer": "ipython3",
  "version": 3,
  "kernelspec": {
   "name": "python37464bitd4b933d237914272a9082dd0064d7fde",
   "display_name": "Python 3.7.4 64-bit"
  }
 },
 "cells": [
  {
   "cell_type": "code",
   "execution_count": 41,
   "metadata": {},
   "outputs": [
    {
     "data": {
      "text/html": "<div>\n<style scoped>\n    .dataframe tbody tr th:only-of-type {\n        vertical-align: middle;\n    }\n\n    .dataframe tbody tr th {\n        vertical-align: top;\n    }\n\n    .dataframe thead th {\n        text-align: right;\n    }\n</style>\n<table border=\"1\" class=\"dataframe\">\n  <thead>\n    <tr style=\"text-align: right;\">\n      <th></th>\n      <th>record_id</th>\n      <th>date_published</th>\n      <th>date_modified</th>\n      <th>frequency</th>\n      <th>owner_org</th>\n      <th>maintainer_email</th>\n      <th>metadata_created</th>\n      <th>metadata_modified</th>\n      <th>description_en</th>\n      <th>description_fr</th>\n      <th>dataset_id</th>\n      <th>resource_id</th>\n      <th>package_id</th>\n      <th>source_format</th>\n      <th>resource_type</th>\n      <th>created</th>\n      <th>last_modified</th>\n      <th>state</th>\n      <th>url</th>\n      <th>url_type</th>\n    </tr>\n  </thead>\n  <tbody>\n    <tr>\n      <td>0</td>\n      <td>00000d1c-2567-4f51-a08b-d11c3413f829</td>\n      <td>1988-01-05 00:00:00</td>\n      <td>NaN</td>\n      <td>as_needed</td>\n      <td>Natural Resources Canada</td>\n      <td>NRCan.geogratis-geogratis.RNCan@canada.ca</td>\n      <td>2017-01-25T16:50:41.585767</td>\n      <td>2017-01-25T16:50:41.607446</td>\n      <td>LOTS 1 TO 26, ROADS AND GREENBELTS, ROBINSON H...</td>\n      <td>Le titre du plan en français n’existe pas. Le ...</td>\n      <td>00000d1c-2567-4f51-a08b-d11c3413f829</td>\n      <td>62d71256-c58c-4351-a527-d79fed951c49</td>\n      <td>00000d1c-2567-4f51-a08b-d11c3413f829</td>\n      <td>other</td>\n      <td>dataset</td>\n      <td>2017-01-25T11:50:41.625040</td>\n      <td>NaN</td>\n      <td>active</td>\n      <td>http://clss.nrcan.gc.ca/plan-eng.php?id=71069+...</td>\n      <td>NaN</td>\n    </tr>\n    <tr>\n      <td>1</td>\n      <td>00000d1c-2567-4f51-a08b-d11c3413f829</td>\n      <td>1988-01-05 00:00:00</td>\n      <td>NaN</td>\n      <td>as_needed</td>\n      <td>Natural Resources Canada</td>\n      <td>NRCan.geogratis-geogratis.RNCan@canada.ca</td>\n      <td>2017-01-25T16:50:41.585767</td>\n      <td>2017-01-25T16:50:41.607446</td>\n      <td>LOTS 1 TO 26, ROADS AND GREENBELTS, ROBINSON H...</td>\n      <td>Le titre du plan en français n’existe pas. Le ...</td>\n      <td>00000d1c-2567-4f51-a08b-d11c3413f829</td>\n      <td>77359319-8d18-4b3a-b95f-614465b98c61</td>\n      <td>00000d1c-2567-4f51-a08b-d11c3413f829</td>\n      <td>other</td>\n      <td>dataset</td>\n      <td>2017-01-25T11:50:41.625066</td>\n      <td>NaN</td>\n      <td>active</td>\n      <td>http://satc.rncan.gc.ca/plan-fra.php?id=71069+...</td>\n      <td>NaN</td>\n    </tr>\n    <tr>\n      <td>2</td>\n      <td>00005c5f-6f4e-4dd1-bec6-10bccd8c60a4</td>\n      <td>1976-01-01 00:00:00</td>\n      <td>NaN</td>\n      <td>as_needed</td>\n      <td>Natural Resources Canada</td>\n      <td>NRCan.geogratis-geogratis.RNCan@canada.ca</td>\n      <td>2017-01-26T01:44:50.152047</td>\n      <td>2017-01-26T01:44:50.170519</td>\n      <td>L.'s29 &amp; 30 ADJ POWER LINE IN INDUST SUBDIV</td>\n      <td>Le titre du plan en français n’existe pas. Le ...</td>\n      <td>00005c5f-6f4e-4dd1-bec6-10bccd8c60a4</td>\n      <td>ac02c7a2-08b3-4794-b5d3-983206aad2aa</td>\n      <td>00005c5f-6f4e-4dd1-bec6-10bccd8c60a4</td>\n      <td>other</td>\n      <td>dataset</td>\n      <td>2017-01-25T20:44:50.178021</td>\n      <td>NaN</td>\n      <td>active</td>\n      <td>http://clss.nrcan.gc.ca/plan-eng.php?id=60587+...</td>\n      <td>NaN</td>\n    </tr>\n    <tr>\n      <td>3</td>\n      <td>00005c5f-6f4e-4dd1-bec6-10bccd8c60a4</td>\n      <td>1976-01-01 00:00:00</td>\n      <td>NaN</td>\n      <td>as_needed</td>\n      <td>Natural Resources Canada</td>\n      <td>NRCan.geogratis-geogratis.RNCan@canada.ca</td>\n      <td>2017-01-26T01:44:50.152047</td>\n      <td>2017-01-26T01:44:50.170519</td>\n      <td>L.'s29 &amp; 30 ADJ POWER LINE IN INDUST SUBDIV</td>\n      <td>Le titre du plan en français n’existe pas. Le ...</td>\n      <td>00005c5f-6f4e-4dd1-bec6-10bccd8c60a4</td>\n      <td>f41c3f24-82e3-4cd7-b9d6-42d6e9ac662a</td>\n      <td>00005c5f-6f4e-4dd1-bec6-10bccd8c60a4</td>\n      <td>other</td>\n      <td>dataset</td>\n      <td>2017-01-25T20:44:50.178055</td>\n      <td>NaN</td>\n      <td>active</td>\n      <td>http://satc.rncan.gc.ca/plan-fra.php?id=60587+...</td>\n      <td>NaN</td>\n    </tr>\n    <tr>\n      <td>4</td>\n      <td>000183ed-8864-42f0-ae43-c4313a860720</td>\n      <td>2019-04-12 00:00:00</td>\n      <td>NaN</td>\n      <td>P1Y</td>\n      <td>Natural Resources Canada</td>\n      <td>questions@nrcan.gc.ca</td>\n      <td>2019-06-07T15:00:50.225404</td>\n      <td>2019-06-07T15:25:05.287050</td>\n      <td>This dataset is produced and published annuall...</td>\n      <td>Ce jeu de données est produit et publié annuel...</td>\n      <td>000183ed-8864-42f0-ae43-c4313a860720</td>\n      <td>f412b1d3-5296-4d26-9cee-1972d075a364</td>\n      <td>000183ed-8864-42f0-ae43-c4313a860720</td>\n      <td>WMS</td>\n      <td>web_service</td>\n      <td>2019-06-07T15:25:05.389375</td>\n      <td>NaN</td>\n      <td>active</td>\n      <td>https://webservices.maps.canada.ca/arcgis/serv...</td>\n      <td>NaN</td>\n    </tr>\n    <tr>\n      <td>5</td>\n      <td>000183ed-8864-42f0-ae43-c4313a860720</td>\n      <td>2019-04-12 00:00:00</td>\n      <td>NaN</td>\n      <td>P1Y</td>\n      <td>Natural Resources Canada</td>\n      <td>questions@nrcan.gc.ca</td>\n      <td>2019-06-07T15:00:50.225404</td>\n      <td>2019-06-07T15:25:05.287050</td>\n      <td>This dataset is produced and published annuall...</td>\n      <td>Ce jeu de données est produit et publié annuel...</td>\n      <td>000183ed-8864-42f0-ae43-c4313a860720</td>\n      <td>dc44e816-41ab-415b-ad54-b3c663709f86</td>\n      <td>000183ed-8864-42f0-ae43-c4313a860720</td>\n      <td>WMS</td>\n      <td>web_service</td>\n      <td>2019-06-07T15:25:05.389386</td>\n      <td>NaN</td>\n      <td>active</td>\n      <td>https://servicesweb.cartes.canada.ca/arcgis/se...</td>\n      <td>NaN</td>\n    </tr>\n    <tr>\n      <td>6</td>\n      <td>000183ed-8864-42f0-ae43-c4313a860720</td>\n      <td>2019-04-12 00:00:00</td>\n      <td>NaN</td>\n      <td>P1Y</td>\n      <td>Natural Resources Canada</td>\n      <td>questions@nrcan.gc.ca</td>\n      <td>2019-06-07T15:00:50.225404</td>\n      <td>2019-06-07T15:25:05.287050</td>\n      <td>This dataset is produced and published annuall...</td>\n      <td>Ce jeu de données est produit et publié annuel...</td>\n      <td>000183ed-8864-42f0-ae43-c4313a860720</td>\n      <td>9e12475f-5d6a-41d8-aede-2668d708e695</td>\n      <td>000183ed-8864-42f0-ae43-c4313a860720</td>\n      <td>FGDB/GDB</td>\n      <td>dataset</td>\n      <td>2019-06-07T15:25:05.389390</td>\n      <td>NaN</td>\n      <td>active</td>\n      <td>http://ftp.maps.canada.ca/pub/nrcan_rncan/Mini...</td>\n      <td>NaN</td>\n    </tr>\n    <tr>\n      <td>7</td>\n      <td>000183ed-8864-42f0-ae43-c4313a860720</td>\n      <td>2019-04-12 00:00:00</td>\n      <td>NaN</td>\n      <td>P1Y</td>\n      <td>Natural Resources Canada</td>\n      <td>questions@nrcan.gc.ca</td>\n      <td>2019-06-07T15:00:50.225404</td>\n      <td>2019-06-07T15:25:05.287050</td>\n      <td>This dataset is produced and published annuall...</td>\n      <td>Ce jeu de données est produit et publié annuel...</td>\n      <td>000183ed-8864-42f0-ae43-c4313a860720</td>\n      <td>a90a71da-a810-490a-93e1-16b07b18b1bb</td>\n      <td>000183ed-8864-42f0-ae43-c4313a860720</td>\n      <td>MXD</td>\n      <td>guide</td>\n      <td>2019-06-07T15:25:05.389392</td>\n      <td>NaN</td>\n      <td>active</td>\n      <td>http://ftp.maps.canada.ca/pub/nrcan_rncan/Mini...</td>\n      <td>NaN</td>\n    </tr>\n    <tr>\n      <td>8</td>\n      <td>000183ed-8864-42f0-ae43-c4313a860720</td>\n      <td>2019-04-12 00:00:00</td>\n      <td>NaN</td>\n      <td>P1Y</td>\n      <td>Natural Resources Canada</td>\n      <td>questions@nrcan.gc.ca</td>\n      <td>2019-06-07T15:00:50.225404</td>\n      <td>2019-06-07T15:25:05.287050</td>\n      <td>This dataset is produced and published annuall...</td>\n      <td>Ce jeu de données est produit et publié annuel...</td>\n      <td>000183ed-8864-42f0-ae43-c4313a860720</td>\n      <td>1401009a-e5e3-4fae-b637-43240b8f1eeb</td>\n      <td>000183ed-8864-42f0-ae43-c4313a860720</td>\n      <td>MXD</td>\n      <td>guide</td>\n      <td>2019-06-07T15:25:05.389395</td>\n      <td>NaN</td>\n      <td>active</td>\n      <td>http://ftp.maps.canada.ca/pub/nrcan_rncan/Mini...</td>\n      <td>NaN</td>\n    </tr>\n    <tr>\n      <td>9</td>\n      <td>000183ed-8864-42f0-ae43-c4313a860720</td>\n      <td>2019-04-12 00:00:00</td>\n      <td>NaN</td>\n      <td>P1Y</td>\n      <td>Natural Resources Canada</td>\n      <td>questions@nrcan.gc.ca</td>\n      <td>2019-06-07T15:00:50.225404</td>\n      <td>2019-06-07T15:25:05.287050</td>\n      <td>This dataset is produced and published annuall...</td>\n      <td>Ce jeu de données est produit et publié annuel...</td>\n      <td>000183ed-8864-42f0-ae43-c4313a860720</td>\n      <td>ef87f322-0346-4bba-842a-4e2875db1b70</td>\n      <td>000183ed-8864-42f0-ae43-c4313a860720</td>\n      <td>SHP</td>\n      <td>dataset</td>\n      <td>2019-06-07T15:25:05.389397</td>\n      <td>NaN</td>\n      <td>active</td>\n      <td>http://ftp.maps.canada.ca/pub/nrcan_rncan/Mini...</td>\n      <td>NaN</td>\n    </tr>\n  </tbody>\n</table>\n</div>",
      "text/plain": "                              record_id       date_published date_modified  \\\n0  00000d1c-2567-4f51-a08b-d11c3413f829  1988-01-05 00:00:00           NaN   \n1  00000d1c-2567-4f51-a08b-d11c3413f829  1988-01-05 00:00:00           NaN   \n2  00005c5f-6f4e-4dd1-bec6-10bccd8c60a4  1976-01-01 00:00:00           NaN   \n3  00005c5f-6f4e-4dd1-bec6-10bccd8c60a4  1976-01-01 00:00:00           NaN   \n4  000183ed-8864-42f0-ae43-c4313a860720  2019-04-12 00:00:00           NaN   \n5  000183ed-8864-42f0-ae43-c4313a860720  2019-04-12 00:00:00           NaN   \n6  000183ed-8864-42f0-ae43-c4313a860720  2019-04-12 00:00:00           NaN   \n7  000183ed-8864-42f0-ae43-c4313a860720  2019-04-12 00:00:00           NaN   \n8  000183ed-8864-42f0-ae43-c4313a860720  2019-04-12 00:00:00           NaN   \n9  000183ed-8864-42f0-ae43-c4313a860720  2019-04-12 00:00:00           NaN   \n\n   frequency                 owner_org  \\\n0  as_needed  Natural Resources Canada   \n1  as_needed  Natural Resources Canada   \n2  as_needed  Natural Resources Canada   \n3  as_needed  Natural Resources Canada   \n4        P1Y  Natural Resources Canada   \n5        P1Y  Natural Resources Canada   \n6        P1Y  Natural Resources Canada   \n7        P1Y  Natural Resources Canada   \n8        P1Y  Natural Resources Canada   \n9        P1Y  Natural Resources Canada   \n\n                            maintainer_email            metadata_created  \\\n0  NRCan.geogratis-geogratis.RNCan@canada.ca  2017-01-25T16:50:41.585767   \n1  NRCan.geogratis-geogratis.RNCan@canada.ca  2017-01-25T16:50:41.585767   \n2  NRCan.geogratis-geogratis.RNCan@canada.ca  2017-01-26T01:44:50.152047   \n3  NRCan.geogratis-geogratis.RNCan@canada.ca  2017-01-26T01:44:50.152047   \n4                      questions@nrcan.gc.ca  2019-06-07T15:00:50.225404   \n5                      questions@nrcan.gc.ca  2019-06-07T15:00:50.225404   \n6                      questions@nrcan.gc.ca  2019-06-07T15:00:50.225404   \n7                      questions@nrcan.gc.ca  2019-06-07T15:00:50.225404   \n8                      questions@nrcan.gc.ca  2019-06-07T15:00:50.225404   \n9                      questions@nrcan.gc.ca  2019-06-07T15:00:50.225404   \n\n            metadata_modified  \\\n0  2017-01-25T16:50:41.607446   \n1  2017-01-25T16:50:41.607446   \n2  2017-01-26T01:44:50.170519   \n3  2017-01-26T01:44:50.170519   \n4  2019-06-07T15:25:05.287050   \n5  2019-06-07T15:25:05.287050   \n6  2019-06-07T15:25:05.287050   \n7  2019-06-07T15:25:05.287050   \n8  2019-06-07T15:25:05.287050   \n9  2019-06-07T15:25:05.287050   \n\n                                      description_en  \\\n0  LOTS 1 TO 26, ROADS AND GREENBELTS, ROBINSON H...   \n1  LOTS 1 TO 26, ROADS AND GREENBELTS, ROBINSON H...   \n2        L.'s29 & 30 ADJ POWER LINE IN INDUST SUBDIV   \n3        L.'s29 & 30 ADJ POWER LINE IN INDUST SUBDIV   \n4  This dataset is produced and published annuall...   \n5  This dataset is produced and published annuall...   \n6  This dataset is produced and published annuall...   \n7  This dataset is produced and published annuall...   \n8  This dataset is produced and published annuall...   \n9  This dataset is produced and published annuall...   \n\n                                      description_fr  \\\n0  Le titre du plan en français n’existe pas. Le ...   \n1  Le titre du plan en français n’existe pas. Le ...   \n2  Le titre du plan en français n’existe pas. Le ...   \n3  Le titre du plan en français n’existe pas. Le ...   \n4  Ce jeu de données est produit et publié annuel...   \n5  Ce jeu de données est produit et publié annuel...   \n6  Ce jeu de données est produit et publié annuel...   \n7  Ce jeu de données est produit et publié annuel...   \n8  Ce jeu de données est produit et publié annuel...   \n9  Ce jeu de données est produit et publié annuel...   \n\n                             dataset_id                           resource_id  \\\n0  00000d1c-2567-4f51-a08b-d11c3413f829  62d71256-c58c-4351-a527-d79fed951c49   \n1  00000d1c-2567-4f51-a08b-d11c3413f829  77359319-8d18-4b3a-b95f-614465b98c61   \n2  00005c5f-6f4e-4dd1-bec6-10bccd8c60a4  ac02c7a2-08b3-4794-b5d3-983206aad2aa   \n3  00005c5f-6f4e-4dd1-bec6-10bccd8c60a4  f41c3f24-82e3-4cd7-b9d6-42d6e9ac662a   \n4  000183ed-8864-42f0-ae43-c4313a860720  f412b1d3-5296-4d26-9cee-1972d075a364   \n5  000183ed-8864-42f0-ae43-c4313a860720  dc44e816-41ab-415b-ad54-b3c663709f86   \n6  000183ed-8864-42f0-ae43-c4313a860720  9e12475f-5d6a-41d8-aede-2668d708e695   \n7  000183ed-8864-42f0-ae43-c4313a860720  a90a71da-a810-490a-93e1-16b07b18b1bb   \n8  000183ed-8864-42f0-ae43-c4313a860720  1401009a-e5e3-4fae-b637-43240b8f1eeb   \n9  000183ed-8864-42f0-ae43-c4313a860720  ef87f322-0346-4bba-842a-4e2875db1b70   \n\n                             package_id source_format resource_type  \\\n0  00000d1c-2567-4f51-a08b-d11c3413f829         other       dataset   \n1  00000d1c-2567-4f51-a08b-d11c3413f829         other       dataset   \n2  00005c5f-6f4e-4dd1-bec6-10bccd8c60a4         other       dataset   \n3  00005c5f-6f4e-4dd1-bec6-10bccd8c60a4         other       dataset   \n4  000183ed-8864-42f0-ae43-c4313a860720           WMS   web_service   \n5  000183ed-8864-42f0-ae43-c4313a860720           WMS   web_service   \n6  000183ed-8864-42f0-ae43-c4313a860720      FGDB/GDB       dataset   \n7  000183ed-8864-42f0-ae43-c4313a860720           MXD         guide   \n8  000183ed-8864-42f0-ae43-c4313a860720           MXD         guide   \n9  000183ed-8864-42f0-ae43-c4313a860720           SHP       dataset   \n\n                      created  last_modified   state  \\\n0  2017-01-25T11:50:41.625040            NaN  active   \n1  2017-01-25T11:50:41.625066            NaN  active   \n2  2017-01-25T20:44:50.178021            NaN  active   \n3  2017-01-25T20:44:50.178055            NaN  active   \n4  2019-06-07T15:25:05.389375            NaN  active   \n5  2019-06-07T15:25:05.389386            NaN  active   \n6  2019-06-07T15:25:05.389390            NaN  active   \n7  2019-06-07T15:25:05.389392            NaN  active   \n8  2019-06-07T15:25:05.389395            NaN  active   \n9  2019-06-07T15:25:05.389397            NaN  active   \n\n                                                 url url_type  \n0  http://clss.nrcan.gc.ca/plan-eng.php?id=71069+...      NaN  \n1  http://satc.rncan.gc.ca/plan-fra.php?id=71069+...      NaN  \n2  http://clss.nrcan.gc.ca/plan-eng.php?id=60587+...      NaN  \n3  http://satc.rncan.gc.ca/plan-fra.php?id=60587+...      NaN  \n4  https://webservices.maps.canada.ca/arcgis/serv...      NaN  \n5  https://servicesweb.cartes.canada.ca/arcgis/se...      NaN  \n6  http://ftp.maps.canada.ca/pub/nrcan_rncan/Mini...      NaN  \n7  http://ftp.maps.canada.ca/pub/nrcan_rncan/Mini...      NaN  \n8  http://ftp.maps.canada.ca/pub/nrcan_rncan/Mini...      NaN  \n9  http://ftp.maps.canada.ca/pub/nrcan_rncan/Mini...      NaN  "
     },
     "execution_count": 41,
     "metadata": {},
     "output_type": "execute_result"
    }
   ],
   "source": [
    "import pandas as pd\n",
    "import data_quality_config as dqconfig\n",
    "from datetime import datetime\n",
    "from goodtables import validate\n",
    "\n",
    "df = pd.read_csv('debug_parsed_catalogue.csv', encoding='utf-8')\n",
    "df.head(10)\n"
   ]
  },
  {
   "cell_type": "code",
   "execution_count": 50,
   "metadata": {},
   "outputs": [],
   "source": [
    "import data_quality_utils as dqutils\n",
    "# Other type analysis\n",
    "\n",
    "def prepare_format(u):\n",
    "    t = dqutils.get_filename_from_url(u).split('.')[-1]\n",
    "    try:\n",
    "        t = t.split('?')[1]\n",
    "        if 'db_project' in t:\n",
    "            t = 'db_project querystring'\n",
    "        if 'id=' in t:\n",
    "            t = 'id querystring'\n",
    "        if 'lang=' in t:\n",
    "            t = 'lang querystring'\n",
    "        if 'cat=' in t:\n",
    "            t = 'cat querystring'\n",
    "    except:\n",
    "        t2 = 'meh'\n",
    "    return t\n",
    "\n",
    "df_other = df[df['resource_type'] == 'dataset']\n",
    "df_other = df_other[df_other['source_format'] == 'other']\n",
    "df_other['format_from_url'] = df_other['url'].apply(lambda x: prepare_format(x))\n",
    "\n",
    "df_other[['record_id', 'frequency', 'owner_org', 'maintainer_email', 'resource_id', 'source_format', 'resource_type', 'state', 'url', 'format_from_url']].to_csv('debug_other_source_format.csv', index=None, header=True, encoding=dqconfig.encoding_type)"
   ]
  },
  {
   "cell_type": "code",
   "execution_count": 37,
   "metadata": {},
   "outputs": [
    {
     "data": {
      "text/html": "<div>\n<style scoped>\n    .dataframe tbody tr th:only-of-type {\n        vertical-align: middle;\n    }\n\n    .dataframe tbody tr th {\n        vertical-align: top;\n    }\n\n    .dataframe thead th {\n        text-align: right;\n    }\n</style>\n<table border=\"1\" class=\"dataframe\">\n  <thead>\n    <tr style=\"text-align: right;\">\n      <th></th>\n      <th>record_id</th>\n      <th>date_published</th>\n      <th>date_modified</th>\n      <th>frequency</th>\n      <th>owner_org</th>\n      <th>maintainer_email</th>\n      <th>metadata_created</th>\n      <th>metadata_modified</th>\n      <th>description_en</th>\n      <th>description_fr</th>\n      <th>dataset_id</th>\n      <th>resource_id</th>\n      <th>package_id</th>\n      <th>source_format</th>\n      <th>resource_type</th>\n      <th>created</th>\n      <th>last_modified</th>\n      <th>state</th>\n      <th>url</th>\n      <th>url_type</th>\n    </tr>\n  </thead>\n  <tbody>\n    <tr>\n      <td>126844</td>\n      <td>a35cf382-690c-4221-a971-cf0fd189a46f</td>\n      <td>2018-10-12 00:00:00</td>\n      <td>NaN</td>\n      <td>as_needed</td>\n      <td>Treasury Board of Canada Secretariat</td>\n      <td>GCInfoBase@tbs-sct.gc.ca</td>\n      <td>2018-10-12T17:51:17.946970</td>\n      <td>2020-01-31T21:21:11.527972</td>\n      <td>The financial, people management and results d...</td>\n      <td>Les données financières et les données relativ...</td>\n      <td>a35cf382-690c-4221-a971-cf0fd189a46f</td>\n      <td>bbf91e2a-61bd-4987-9b70-7845a2b68ef0</td>\n      <td>a35cf382-690c-4221-a971-cf0fd189a46f</td>\n      <td>CSV</td>\n      <td>dataset</td>\n      <td>2018-10-12T17:51:19.079325</td>\n      <td>NaN</td>\n      <td>active</td>\n      <td>https://open.canada.ca/data/dataset/a35cf382-6...</td>\n      <td>upload</td>\n    </tr>\n  </tbody>\n</table>\n</div>",
      "text/plain": "                                   record_id       date_published  \\\n126844  a35cf382-690c-4221-a971-cf0fd189a46f  2018-10-12 00:00:00   \n\n       date_modified  frequency                             owner_org  \\\n126844           NaN  as_needed  Treasury Board of Canada Secretariat   \n\n                maintainer_email            metadata_created  \\\n126844  GCInfoBase@tbs-sct.gc.ca  2018-10-12T17:51:17.946970   \n\n                 metadata_modified  \\\n126844  2020-01-31T21:21:11.527972   \n\n                                           description_en  \\\n126844  The financial, people management and results d...   \n\n                                           description_fr  \\\n126844  Les données financières et les données relativ...   \n\n                                  dataset_id  \\\n126844  a35cf382-690c-4221-a971-cf0fd189a46f   \n\n                                 resource_id  \\\n126844  bbf91e2a-61bd-4987-9b70-7845a2b68ef0   \n\n                                  package_id source_format resource_type  \\\n126844  a35cf382-690c-4221-a971-cf0fd189a46f           CSV       dataset   \n\n                           created  last_modified   state  \\\n126844  2018-10-12T17:51:19.079325            NaN  active   \n\n                                                      url url_type  \n126844  https://open.canada.ca/data/dataset/a35cf382-6...   upload  "
     },
     "execution_count": 37,
     "metadata": {},
     "output_type": "execute_result"
    }
   ],
   "source": [
    "list_of_ids = [\n",
    "    'a35cf382-690c-4221-a971-cf0fd189a46f'\n",
    "]\n",
    "df_query = df.loc[df['record_id'].isin(list_of_ids)]\n",
    "df_query.head(1)"
   ]
  },
  {
   "cell_type": "code",
   "execution_count": 38,
   "metadata": {},
   "outputs": [
    {
     "name": "stdout",
     "output_type": "stream",
     "text": "Valid:\tTrue\n\nValid:\tTrue\n\nValid:\tTrue\n\nValid:\tTrue\n\nValid:\tTrue\n\nValid:\tTrue\n\nValid:\tTrue\n\nValid:\tTrue\n\nValid:\tTrue\n\nValid:\tTrue\n\nValid:\tTrue\n\nValid:\tFalse\n\nValid:\tTrue\n\nValid:\tTrue\n\nValid:\tTrue\n\nValid:\tTrue\n\nValid:\tFalse\n\nValid:\tTrue\n\nValid:\tTrue\n\nValid:\tTrue\n\nValid:\tFalse\n\nValid:\tFalse\n\nValid:\tTrue\n\nValid:\tTrue\n\nValid:\tTrue\n\nValid:\tTrue\n\nValid:\tTrue\n\nValid:\tTrue\n\nValid:\tFalse\n\nValid:\tFalse\n\nValid:\tFalse\n\nValid:\tFalse\n\nValid:\tFalse\n\nValid:\tFalse\n\nValid:\tFalse\n\nValid:\tFalse\n\n"
    }
   ],
   "source": [
    "# Goodtables validation\n",
    "# WARNING: This takes a while to run on large collections.\n",
    "df_goodtables = df_query[df_query['resource_type'] == 'dataset']\n",
    "\n",
    "for index, row in df_goodtables.iterrows():\n",
    "    gt_report = validate(row['url'])\n",
    "    try:\n",
    "        print('Valid:\\t{0}\\n'.format(gt_report['tables'][0]['valid']))\n",
    "    except:\n",
    "        print(gt_report)\n",
    "    #print(gt_report) # Print full report\n",
    "    #gt_report['tables'][0]['encoding']\n"
   ]
  },
  {
   "cell_type": "code",
   "execution_count": 57,
   "metadata": {},
   "outputs": [
    {
     "data": {
      "text/html": "<div>\n<style scoped>\n    .dataframe tbody tr th:only-of-type {\n        vertical-align: middle;\n    }\n\n    .dataframe tbody tr th {\n        vertical-align: top;\n    }\n\n    .dataframe thead th {\n        text-align: right;\n    }\n</style>\n<table border=\"1\" class=\"dataframe\">\n  <thead>\n    <tr style=\"text-align: right;\">\n      <th></th>\n      <th>resource_type</th>\n      <th>type_from_source</th>\n      <th>type_from_url</th>\n      <th>tail_url</th>\n    </tr>\n  </thead>\n  <tbody>\n    <tr>\n      <td>195273</td>\n      <td>dataset</td>\n      <td>xls</td>\n      <td>xls</td>\n      <td>...RCC_M_PRadmiss_0001_E.xls</td>\n    </tr>\n    <tr>\n      <td>195274</td>\n      <td>dataset</td>\n      <td>xls</td>\n      <td>xls</td>\n      <td>...RCC_M_PRadmiss_0001_F.xls</td>\n    </tr>\n    <tr>\n      <td>195275</td>\n      <td>dataset</td>\n      <td>xls</td>\n      <td>xls</td>\n      <td>...RCC_M_PRadmiss_0002_E.xls</td>\n    </tr>\n    <tr>\n      <td>195276</td>\n      <td>dataset</td>\n      <td>xls</td>\n      <td>xls</td>\n      <td>...RCC_M_PRadmiss_0002_F.xls</td>\n    </tr>\n    <tr>\n      <td>195277</td>\n      <td>dataset</td>\n      <td>xls</td>\n      <td>xls</td>\n      <td>...RCC_M_PRadmiss_0003_E.xls</td>\n    </tr>\n    <tr>\n      <td>195278</td>\n      <td>dataset</td>\n      <td>xls</td>\n      <td>xls</td>\n      <td>...RCC_M_PRadmiss_0003_F.xls</td>\n    </tr>\n    <tr>\n      <td>195279</td>\n      <td>dataset</td>\n      <td>xls</td>\n      <td>xls</td>\n      <td>...RCC_M_PRadmiss_0004_E.xls</td>\n    </tr>\n    <tr>\n      <td>195280</td>\n      <td>dataset</td>\n      <td>xls</td>\n      <td>xls</td>\n      <td>...RCC_M_PRadmiss_0004_F.xls</td>\n    </tr>\n    <tr>\n      <td>195281</td>\n      <td>dataset</td>\n      <td>xls</td>\n      <td>xls</td>\n      <td>...RCC_M_PRadmiss_0005_E.xls</td>\n    </tr>\n    <tr>\n      <td>195282</td>\n      <td>dataset</td>\n      <td>xls</td>\n      <td>xls</td>\n      <td>...RCC_M_PRadmiss_0005_F.xls</td>\n    </tr>\n    <tr>\n      <td>195283</td>\n      <td>dataset</td>\n      <td>csv</td>\n      <td>csv</td>\n      <td>...C_M_PRadmiss_0003_CSV.csv</td>\n    </tr>\n    <tr>\n      <td>195284</td>\n      <td>dataset</td>\n      <td>csv</td>\n      <td>csv</td>\n      <td>...C_M_PRadmiss_0005_CSV.csv</td>\n    </tr>\n    <tr>\n      <td>195285</td>\n      <td>dataset</td>\n      <td>csv</td>\n      <td>csv</td>\n      <td>...C_M_PRadmiss_0001_CSV.csv</td>\n    </tr>\n    <tr>\n      <td>195286</td>\n      <td>dataset</td>\n      <td>csv</td>\n      <td>csv</td>\n      <td>...C_M_PRadmiss_0004_CSV.csv</td>\n    </tr>\n    <tr>\n      <td>195287</td>\n      <td>dataset</td>\n      <td>csv</td>\n      <td>csv</td>\n      <td>...C_M_PRadmiss_0002_CSV.csv</td>\n    </tr>\n    <tr>\n      <td>195288</td>\n      <td>dataset</td>\n      <td>xls</td>\n      <td>xls</td>\n      <td>...RCC_M_PRadmiss_0006_E.xls</td>\n    </tr>\n    <tr>\n      <td>195289</td>\n      <td>dataset</td>\n      <td>xls</td>\n      <td>xls</td>\n      <td>...RCC_M_PRadmiss_0006_F.xls</td>\n    </tr>\n    <tr>\n      <td>195290</td>\n      <td>dataset</td>\n      <td>csv</td>\n      <td>csv</td>\n      <td>...C_M_PRadmiss_0006_CSV.csv</td>\n    </tr>\n    <tr>\n      <td>195291</td>\n      <td>dataset</td>\n      <td>xls</td>\n      <td>xls</td>\n      <td>...RCC_M_PRadmiss_0007_E.xls</td>\n    </tr>\n    <tr>\n      <td>195292</td>\n      <td>dataset</td>\n      <td>xls</td>\n      <td>xls</td>\n      <td>...RCC_M_PRadmiss_0007_F.xls</td>\n    </tr>\n    <tr>\n      <td>195293</td>\n      <td>dataset</td>\n      <td>csv</td>\n      <td>csv</td>\n      <td>...C_M_PRadmiss_0007_CSV.csv</td>\n    </tr>\n    <tr>\n      <td>195294</td>\n      <td>dataset</td>\n      <td>xls</td>\n      <td>xls</td>\n      <td>...RCC_M_PRadmiss_0012_E.xls</td>\n    </tr>\n    <tr>\n      <td>195295</td>\n      <td>dataset</td>\n      <td>xls</td>\n      <td>xls</td>\n      <td>...RCC_M_PRadmiss_0012_F.xls</td>\n    </tr>\n    <tr>\n      <td>195296</td>\n      <td>dataset</td>\n      <td>csv</td>\n      <td>csv</td>\n      <td>...C_M_PRadmiss_0012_CSV.csv</td>\n    </tr>\n    <tr>\n      <td>195297</td>\n      <td>dataset</td>\n      <td>xls</td>\n      <td>xls</td>\n      <td>...RCC_M_PRadmiss_0008_E.xls</td>\n    </tr>\n    <tr>\n      <td>195298</td>\n      <td>dataset</td>\n      <td>xls</td>\n      <td>xls</td>\n      <td>...RCC_M_PRadmiss_0008_F.xls</td>\n    </tr>\n    <tr>\n      <td>195299</td>\n      <td>dataset</td>\n      <td>csv</td>\n      <td>csv</td>\n      <td>...C_M_PRadmiss_0008_CSV.csv</td>\n    </tr>\n    <tr>\n      <td>195300</td>\n      <td>dataset</td>\n      <td>xls</td>\n      <td>xls</td>\n      <td>...RCC_M_PRadmiss_0009_E.xls</td>\n    </tr>\n    <tr>\n      <td>195301</td>\n      <td>dataset</td>\n      <td>xls</td>\n      <td>xls</td>\n      <td>...RCC_M_PRadmiss_0009_F.xls</td>\n    </tr>\n    <tr>\n      <td>195302</td>\n      <td>dataset</td>\n      <td>xls</td>\n      <td>xls</td>\n      <td>...RCC_M_PRadmiss_0010_E.xls</td>\n    </tr>\n    <tr>\n      <td>195303</td>\n      <td>dataset</td>\n      <td>xls</td>\n      <td>xls</td>\n      <td>...RCC_M_PRadmiss_0010_F.xls</td>\n    </tr>\n    <tr>\n      <td>195304</td>\n      <td>dataset</td>\n      <td>xls</td>\n      <td>csv</td>\n      <td>...C_M_PRadmiss_0010_CSV.csv</td>\n    </tr>\n    <tr>\n      <td>195305</td>\n      <td>dataset</td>\n      <td>xls</td>\n      <td>xls</td>\n      <td>...RCC_M_PRadmiss_0011_E.xls</td>\n    </tr>\n    <tr>\n      <td>195306</td>\n      <td>dataset</td>\n      <td>xls</td>\n      <td>xls</td>\n      <td>...RCC_M_PRadmiss_0011_F.xls</td>\n    </tr>\n    <tr>\n      <td>195307</td>\n      <td>dataset</td>\n      <td>xls</td>\n      <td>xls</td>\n      <td>...RCC_M_PRadmiss_0012_E.xls</td>\n    </tr>\n    <tr>\n      <td>195308</td>\n      <td>dataset</td>\n      <td>xls</td>\n      <td>xls</td>\n      <td>...RCC_M_PRadmiss_0012_F.xls</td>\n    </tr>\n    <tr>\n      <td>195309</td>\n      <td>dataset</td>\n      <td>csv</td>\n      <td>csv</td>\n      <td>...C_M_PRadmiss_0012_CSV.csv</td>\n    </tr>\n  </tbody>\n</table>\n</div>",
      "text/plain": "       resource_type type_from_source type_from_url  \\\n195273       dataset              xls           xls   \n195274       dataset              xls           xls   \n195275       dataset              xls           xls   \n195276       dataset              xls           xls   \n195277       dataset              xls           xls   \n195278       dataset              xls           xls   \n195279       dataset              xls           xls   \n195280       dataset              xls           xls   \n195281       dataset              xls           xls   \n195282       dataset              xls           xls   \n195283       dataset              csv           csv   \n195284       dataset              csv           csv   \n195285       dataset              csv           csv   \n195286       dataset              csv           csv   \n195287       dataset              csv           csv   \n195288       dataset              xls           xls   \n195289       dataset              xls           xls   \n195290       dataset              csv           csv   \n195291       dataset              xls           xls   \n195292       dataset              xls           xls   \n195293       dataset              csv           csv   \n195294       dataset              xls           xls   \n195295       dataset              xls           xls   \n195296       dataset              csv           csv   \n195297       dataset              xls           xls   \n195298       dataset              xls           xls   \n195299       dataset              csv           csv   \n195300       dataset              xls           xls   \n195301       dataset              xls           xls   \n195302       dataset              xls           xls   \n195303       dataset              xls           xls   \n195304       dataset              xls           csv   \n195305       dataset              xls           xls   \n195306       dataset              xls           xls   \n195307       dataset              xls           xls   \n195308       dataset              xls           xls   \n195309       dataset              csv           csv   \n\n                            tail_url  \n195273  ...RCC_M_PRadmiss_0001_E.xls  \n195274  ...RCC_M_PRadmiss_0001_F.xls  \n195275  ...RCC_M_PRadmiss_0002_E.xls  \n195276  ...RCC_M_PRadmiss_0002_F.xls  \n195277  ...RCC_M_PRadmiss_0003_E.xls  \n195278  ...RCC_M_PRadmiss_0003_F.xls  \n195279  ...RCC_M_PRadmiss_0004_E.xls  \n195280  ...RCC_M_PRadmiss_0004_F.xls  \n195281  ...RCC_M_PRadmiss_0005_E.xls  \n195282  ...RCC_M_PRadmiss_0005_F.xls  \n195283  ...C_M_PRadmiss_0003_CSV.csv  \n195284  ...C_M_PRadmiss_0005_CSV.csv  \n195285  ...C_M_PRadmiss_0001_CSV.csv  \n195286  ...C_M_PRadmiss_0004_CSV.csv  \n195287  ...C_M_PRadmiss_0002_CSV.csv  \n195288  ...RCC_M_PRadmiss_0006_E.xls  \n195289  ...RCC_M_PRadmiss_0006_F.xls  \n195290  ...C_M_PRadmiss_0006_CSV.csv  \n195291  ...RCC_M_PRadmiss_0007_E.xls  \n195292  ...RCC_M_PRadmiss_0007_F.xls  \n195293  ...C_M_PRadmiss_0007_CSV.csv  \n195294  ...RCC_M_PRadmiss_0012_E.xls  \n195295  ...RCC_M_PRadmiss_0012_F.xls  \n195296  ...C_M_PRadmiss_0012_CSV.csv  \n195297  ...RCC_M_PRadmiss_0008_E.xls  \n195298  ...RCC_M_PRadmiss_0008_F.xls  \n195299  ...C_M_PRadmiss_0008_CSV.csv  \n195300  ...RCC_M_PRadmiss_0009_E.xls  \n195301  ...RCC_M_PRadmiss_0009_F.xls  \n195302  ...RCC_M_PRadmiss_0010_E.xls  \n195303  ...RCC_M_PRadmiss_0010_F.xls  \n195304  ...C_M_PRadmiss_0010_CSV.csv  \n195305  ...RCC_M_PRadmiss_0011_E.xls  \n195306  ...RCC_M_PRadmiss_0011_F.xls  \n195307  ...RCC_M_PRadmiss_0012_E.xls  \n195308  ...RCC_M_PRadmiss_0012_F.xls  \n195309  ...C_M_PRadmiss_0012_CSV.csv  "
     },
     "execution_count": 57,
     "metadata": {},
     "output_type": "execute_result"
    }
   ],
   "source": [
    "# Check File Type\n",
    "import data_quality_utils as dqutils\n",
    "df_ftype = df_query\n",
    "\n",
    "df_ftype['type_from_url'] = df_ftype['url'].apply(lambda x: dqutils.get_filename_from_url(x).split('.')[-1].lower())\n",
    "df_ftype['type_from_source'] = df_ftype['source_format'].apply(lambda x: x.lower())\n",
    "df_ftype['tail_url'] = df_ftype['url'].apply(lambda x: '...' + str(x)[-25:])\n",
    "\n",
    "df_ftype[['resource_type', 'type_from_source', 'type_from_url', 'tail_url']]"
   ]
  },
  {
   "cell_type": "code",
   "execution_count": null,
   "metadata": {},
   "outputs": [],
   "source": [
    "# Check Update Frequency\n",
    "df_frequency = df_query\n",
    "df_frequency['max_days_allowed_since_update'] = df_frequency['frequency'].apply(lambda x: dqconfig.frequency_lookup[x])\n",
    "\n",
    "df_frequency['updated_date'] = df_frequency['created'].apply(lambda x: datetime.strptime(x, '%Y-%m-%dT%H:%M:%S.%f'))\n",
    "\n",
    "df_frequency['time_since_update_created'] = df_frequency['created'].apply(lambda x: dqconfig.snapshot_end_date - datetime.strptime(x, '%Y-%m-%dT%H:%M:%S.%f'))\n",
    "df_frequency['time_since_update_meta_mod'] = df_frequency['metadata_modified'].apply(lambda x: dqconfig.snapshot_end_date - datetime.strptime(x, '%Y-%m-%dT%H:%M:%S.%f'))\n",
    "\n",
    "#df_frequency['valid_update_frequency'] = df_frequency.apply(lambda x: dq.validate_update_frequency(x['frequency'], x['created'], x['metadata_modified']), axis=1)\n",
    "\n",
    "df_query[['frequency', 'metadata_created', 'metadata_modified', 'date_published', 'date_modified', 'created', 'last_modified', 'max_days_allowed_since_update', 'time_since_update_created', 'time_since_update_meta_mod']] #, 'time_since_update_date_mod'"
   ]
  },
  {
   "cell_type": "code",
   "execution_count": 26,
   "metadata": {},
   "outputs": [
    {
     "data": {
      "text/html": "<div>\n<style scoped>\n    .dataframe tbody tr th:only-of-type {\n        vertical-align: middle;\n    }\n\n    .dataframe tbody tr th {\n        vertical-align: top;\n    }\n\n    .dataframe thead th {\n        text-align: right;\n    }\n</style>\n<table border=\"1\" class=\"dataframe\">\n  <thead>\n    <tr style=\"text-align: right;\">\n      <th></th>\n      <th>owner_org</th>\n      <th>maintainer_email</th>\n    </tr>\n  </thead>\n  <tbody>\n    <tr>\n      <td>487</td>\n      <td>Treasury Board of Canada Secretariat</td>\n      <td>open-ouvert@tbs-sct.gc.ca</td>\n    </tr>\n    <tr>\n      <td>488</td>\n      <td>Treasury Board of Canada Secretariat</td>\n      <td>open-ouvert@tbs-sct.gc.ca</td>\n    </tr>\n    <tr>\n      <td>489</td>\n      <td>Treasury Board of Canada Secretariat</td>\n      <td>open-ouvert@tbs-sct.gc.ca</td>\n    </tr>\n    <tr>\n      <td>490</td>\n      <td>Treasury Board of Canada Secretariat</td>\n      <td>open-ouvert@tbs-sct.gc.ca</td>\n    </tr>\n    <tr>\n      <td>491</td>\n      <td>Treasury Board of Canada Secretariat</td>\n      <td>open-ouvert@tbs-sct.gc.ca</td>\n    </tr>\n    <tr>\n      <td>...</td>\n      <td>...</td>\n      <td>...</td>\n    </tr>\n    <tr>\n      <td>192236</td>\n      <td>Canadian Radio-television and Telecommunicatio...</td>\n      <td>ouvert-open@crtc.gc.ca</td>\n    </tr>\n    <tr>\n      <td>192237</td>\n      <td>Canadian Radio-television and Telecommunicatio...</td>\n      <td>ouvert-open@crtc.gc.ca</td>\n    </tr>\n    <tr>\n      <td>192238</td>\n      <td>Canadian Radio-television and Telecommunicatio...</td>\n      <td>ouvert-open@crtc.gc.ca</td>\n    </tr>\n    <tr>\n      <td>192239</td>\n      <td>Canadian Radio-television and Telecommunicatio...</td>\n      <td>ouvert-open@crtc.gc.ca</td>\n    </tr>\n    <tr>\n      <td>192240</td>\n      <td>Canadian Radio-television and Telecommunicatio...</td>\n      <td>ouvert-open@crtc.gc.ca</td>\n    </tr>\n  </tbody>\n</table>\n<p>244 rows × 2 columns</p>\n</div>",
      "text/plain": "                                                owner_org  \\\n487                  Treasury Board of Canada Secretariat   \n488                  Treasury Board of Canada Secretariat   \n489                  Treasury Board of Canada Secretariat   \n490                  Treasury Board of Canada Secretariat   \n491                  Treasury Board of Canada Secretariat   \n...                                                   ...   \n192236  Canadian Radio-television and Telecommunicatio...   \n192237  Canadian Radio-television and Telecommunicatio...   \n192238  Canadian Radio-television and Telecommunicatio...   \n192239  Canadian Radio-television and Telecommunicatio...   \n192240  Canadian Radio-television and Telecommunicatio...   \n\n                 maintainer_email  \n487     open-ouvert@tbs-sct.gc.ca  \n488     open-ouvert@tbs-sct.gc.ca  \n489     open-ouvert@tbs-sct.gc.ca  \n490     open-ouvert@tbs-sct.gc.ca  \n491     open-ouvert@tbs-sct.gc.ca  \n...                           ...  \n192236     ouvert-open@crtc.gc.ca  \n192237     ouvert-open@crtc.gc.ca  \n192238     ouvert-open@crtc.gc.ca  \n192239     ouvert-open@crtc.gc.ca  \n192240     ouvert-open@crtc.gc.ca  \n\n[244 rows x 2 columns]"
     },
     "execution_count": 26,
     "metadata": {},
     "output_type": "execute_result"
    }
   ],
   "source": [
    "# Check Maintainer Email\n",
    "df_email = df_query\n",
    "#df_email[['owner_org', 'maintainer_email']].to_csv('debug_mismatched_email.csv', index=None, header=True, encoding=dqconfig.encoding_type)\n",
    "df_email[['owner_org', 'maintainer_email']]\n"
   ]
  },
  {
   "cell_type": "code",
   "execution_count": null,
   "metadata": {},
   "outputs": [],
   "source": [
    "# Check Readability\n",
    "df_read = df_query\n",
    "df_query[[]]"
   ]
  }
 ]
}